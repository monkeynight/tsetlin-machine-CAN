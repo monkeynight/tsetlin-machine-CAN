{
 "cells": [
  {
   "cell_type": "code",
   "execution_count": 1,
   "id": "aad10f3f-be95-40b5-8e6c-b438adf50dae",
   "metadata": {},
   "outputs": [
    {
     "name": "stdout",
     "output_type": "stream",
     "text": [
      "(10000, 2661)\n"
     ]
    }
   ],
   "source": [
    "import numpy as np\n",
    "x = np.loadtxt('CAN.txt', dtype=int)\n",
    "print(x.shape)"
   ]
  },
  {
   "cell_type": "code",
   "execution_count": 2,
   "id": "04c3b443-d7c4-4565-9505-82c8b2a2385d",
   "metadata": {},
   "outputs": [],
   "source": [
    "X = x[:8000,]"
   ]
  },
  {
   "cell_type": "code",
   "execution_count": 6,
   "id": "99be4872-ab38-4fca-a615-96e24b89ba0b",
   "metadata": {},
   "outputs": [],
   "source": [
    "Y= x[8000:,]"
   ]
  },
  {
   "cell_type": "code",
   "execution_count": 4,
   "id": "f51c0fdc-d5bf-4e3a-a204-bb0bbdc25586",
   "metadata": {},
   "outputs": [
    {
     "name": "stdout",
     "output_type": "stream",
     "text": [
      "(8000, 2661)\n"
     ]
    }
   ],
   "source": [
    "print(X.shape)"
   ]
  },
  {
   "cell_type": "code",
   "execution_count": 7,
   "id": "58503ea6-e945-4997-a4b1-5a6c36c13e75",
   "metadata": {},
   "outputs": [
    {
     "name": "stdout",
     "output_type": "stream",
     "text": [
      "(2000, 2661)\n"
     ]
    }
   ],
   "source": [
    "print(Y.shape)"
   ]
  },
  {
   "cell_type": "code",
   "execution_count": 12,
   "id": "03878e9f-ebf5-4218-aa41-7e2db137a019",
   "metadata": {},
   "outputs": [],
   "source": [
    "np.savetxt('CAN_8000X.txt', X, fmt='%d')"
   ]
  },
  {
   "cell_type": "code",
   "execution_count": 11,
   "id": "14cb54aa-2d6f-4f94-a29e-42f24b55da78",
   "metadata": {},
   "outputs": [],
   "source": [
    "np.savetxt('CAN_2000Y.txt', Y, fmt='%d')"
   ]
  },
  {
   "cell_type": "code",
   "execution_count": 18,
   "id": "222b6ea0-7b54-4d85-ad45-e587818b7e76",
   "metadata": {},
   "outputs": [],
   "source": [
    "p =  x[:5000,]"
   ]
  },
  {
   "cell_type": "code",
   "execution_count": 19,
   "id": "4cbad54c-3759-47e9-b7eb-a4b57fcda46e",
   "metadata": {},
   "outputs": [],
   "source": [
    "X = p[:4000,]"
   ]
  },
  {
   "cell_type": "code",
   "execution_count": 20,
   "id": "50d4c5b4-9025-4419-915a-aeb6d0604e78",
   "metadata": {},
   "outputs": [],
   "source": [
    "Y = p[4000:,]"
   ]
  },
  {
   "cell_type": "code",
   "execution_count": 21,
   "id": "156fd8b4-8991-4a37-ac03-5adf83ae20fb",
   "metadata": {},
   "outputs": [],
   "source": [
    "np.savetxt('CAN_4000X.txt', X, fmt='%d')"
   ]
  },
  {
   "cell_type": "code",
   "execution_count": 22,
   "id": "1689af4d-73ab-44ea-9f5f-4c4c14dde4a3",
   "metadata": {},
   "outputs": [],
   "source": [
    "np.savetxt('CAN_1000Y.txt', Y, fmt='%d')"
   ]
  },
  {
   "cell_type": "code",
   "execution_count": null,
   "id": "ce28600a-f32a-43a3-adc1-a4304b7fd052",
   "metadata": {},
   "outputs": [],
   "source": []
  }
 ],
 "metadata": {
  "kernelspec": {
   "display_name": "Python 3 (ipykernel)",
   "language": "python",
   "name": "python3"
  },
  "language_info": {
   "codemirror_mode": {
    "name": "ipython",
    "version": 3
   },
   "file_extension": ".py",
   "mimetype": "text/x-python",
   "name": "python",
   "nbconvert_exporter": "python",
   "pygments_lexer": "ipython3",
   "version": "3.8.10"
  }
 },
 "nbformat": 4,
 "nbformat_minor": 5
}
